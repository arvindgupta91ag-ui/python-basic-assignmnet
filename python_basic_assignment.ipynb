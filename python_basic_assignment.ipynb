{
  "nbformat": 4,
  "nbformat_minor": 0,
  "metadata": {
    "colab": {
      "provenance": []
    },
    "kernelspec": {
      "name": "python3",
      "display_name": "Python 3"
    },
    "language_info": {
      "name": "python"
    }
  },
  "cells": [
    {
      "cell_type": "markdown",
      "source": [
        "  #.What is Python, and why is it popular ?**\n",
        "    :-python is programing languase so machine can communicate between one to another and it is populor because of easy to learn, industry demand,large and active developer community, etc.\n",
        "  #2. What is an interpreter in Python?**\n",
        "    :-  In Python, an interpreter is the program that reads and executes your Python code. when we write any code just like print(\"hello arvind\") then computer can't understand directly because of computer understand only binary(0,1) so in python interpreter break into binary and adivse to computer what to do next.\n",
        "  #3.What are pre-defined keywords in Python **\n",
        "    keyword are reserved word in python,which have special meaning so can't be use as identifier, (ex- try,except,import,ture,false,etc)\n",
        "    python Keywords are case-sensitive and cannot be redefined like Arvind-> arvind.\n",
        "  #4.Can keywords be used as variable names**\n",
        "    python keyword can't be use as variable names because interpreter will cofuse and result get error.(if,else,true,false,).\n",
        "  #5.What is mutability in Python **\n",
        "    mutability are changeable and can be changed after ready such as list,dict,set.\n",
        "  #6.Why are lists mutable, but tuples are immutable **\n",
        "    list are designed for dynamic data so it can be change when needed such as my_list = [5, 6, 7 ]\n",
        "    my_list[0] = 100\n",
        "    print(my_list)    # Output: [100, 6, 7]\n",
        "    tuples can't be change tuples are meant for fixed data -data that should not be accidentally changed, ex- cordinates\n",
        "    that's why's tuples are immutable once created can't change.\n",
        "  #7.What is the difference between “==” and “is” operators in Python**\n",
        "    operators are special keyword or symbols, (\"==\" this is comparison operators so check content,not memory location, can be in identity operators).\n",
        "  #8.What are logical operators in Python**\n",
        "    special keywords that is essential to flow and combine conditional statement.\n",
        "  #9.What is type casting in Python **\n",
        "    in the python type casting cange in data types such as str(arvind) to int(1) to float(1.5) etc.\n",
        "  #10.What is the difference between implicit and explicit type casting **\n",
        "    there are two types for data casting can be change without any intervention(auto)that's call implicit types and manually through str,int,..etc. call explicit types.\n",
        "  #11.What is the purpose of conditional statements in Python **\n",
        "    conditional statement are use to make descision\n",
        "    ex- today's is sunday(holyday) then don't go to school.\n",
        "  #12.How does the elif statement work**\n",
        "    elif statement used when one and more condition and execution based on the outcome of logical expressions\n",
        "    python check expression from top to down.\n",
        "  #13.What is the difference between for and while loops**\n",
        "    use for loop when you knows repetation of number and use while loop until condition fulfill,\n",
        "    for loop controlled by the number of items\tand while loop Controlled by a boolean condition.\n",
        "  #14.Describe a scenario where a while loop is more suitable than a for loop**\n",
        "    when you don't know how much time user will enter wrong keyword and you want loop go on until enter right keyword in this condition while loop is best."
      ],
      "metadata": {
        "id": "3eJMDKgOVw3b"
      }
    },
    {
      "cell_type": "code",
      "source": [
        "#1.Write a Python program to print \"Hello, World!\n",
        "a=\"Hello, World\"\n",
        "print(a)\n",
        "a.upper()"
      ],
      "metadata": {
        "colab": {
          "base_uri": "https://localhost:8080/",
          "height": 53
        },
        "id": "-59PByShXive",
        "outputId": "4814ec13-3e9f-4660-df08-d8839240c023"
      },
      "execution_count": null,
      "outputs": [
        {
          "output_type": "stream",
          "name": "stdout",
          "text": [
            "Hello, World\n"
          ]
        },
        {
          "output_type": "execute_result",
          "data": {
            "text/plain": [
              "'HELLO, WORLD'"
            ],
            "application/vnd.google.colaboratory.intrinsic+json": {
              "type": "string"
            }
          },
          "metadata": {},
          "execution_count": 3
        }
      ]
    },
    {
      "cell_type": "code",
      "source": [
        "#2.Write a Python program that displays your name and age\n",
        "name=(\"arvind\")\n",
        "age=(\"24\")\n",
        "print(name,age)\n",
        "name.capitalize()"
      ],
      "metadata": {
        "colab": {
          "base_uri": "https://localhost:8080/",
          "height": 53
        },
        "id": "GrUo58MtXcC-",
        "outputId": "f8f4555a-4dc5-4af1-dee2-0b47e4eafd6d"
      },
      "execution_count": null,
      "outputs": [
        {
          "output_type": "stream",
          "name": "stdout",
          "text": [
            "arvind 24\n"
          ]
        },
        {
          "output_type": "execute_result",
          "data": {
            "text/plain": [
              "'Arvind'"
            ],
            "application/vnd.google.colaboratory.intrinsic+json": {
              "type": "string"
            }
          },
          "metadata": {},
          "execution_count": 7
        }
      ]
    },
    {
      "cell_type": "code",
      "source": [
        "#3.Write code to print all the pre-defined keywords in Python using the keyword library\n",
        "import keyword\n",
        "print(keyword.kwlist)"
      ],
      "metadata": {
        "colab": {
          "base_uri": "https://localhost:8080/"
        },
        "id": "g4OOPRQIaFxh",
        "outputId": "a45c60ea-3b36-4190-8a23-ed94e94f7d2b"
      },
      "execution_count": null,
      "outputs": [
        {
          "output_type": "stream",
          "name": "stdout",
          "text": [
            "['False', 'None', 'True', 'and', 'as', 'assert', 'async', 'await', 'break', 'class', 'continue', 'def', 'del', 'elif', 'else', 'except', 'finally', 'for', 'from', 'global', 'if', 'import', 'in', 'is', 'lambda', 'nonlocal', 'not', 'or', 'pass', 'raise', 'return', 'try', 'while', 'with', 'yield']\n"
          ]
        }
      ]
    },
    {
      "cell_type": "code",
      "source": [
        "#4.Write a program that checks if a given word is a Python keyword.\n",
        " import keyword\n",
        "word = input(\"Enter a word: \")\n",
        "if keyword.iskeyword(word):\n",
        "    print(f\"{word} is a Python keyword.\")\n",
        "else:\n",
        "    print(f\"{word} is not a Python keyword.\")"
      ],
      "metadata": {
        "colab": {
          "base_uri": "https://localhost:8080/"
        },
        "id": "8c6chp-_bNiS",
        "outputId": "be4a7ed6-18dd-4523-e5bd-426f761334ad"
      },
      "execution_count": null,
      "outputs": [
        {
          "output_type": "stream",
          "name": "stdout",
          "text": [
            "Enter a word: True\n",
            "True is a Python keyword.\n"
          ]
        }
      ]
    },
    {
      "cell_type": "code",
      "source": [
        "#5.Create a list and tuple in Python, and demonstrate how attempting to change an element works differently\n",
        "list = [1, 2, 3, 4, 5]\n",
        "tuple = (1, 2, 3, 4, 5)\n",
        "\n",
        "# try modifying an element in the list\n",
        "print(\"Original list:\", list)\n",
        "list[4] = 10\n",
        "print(\"Modified list:\", list)\n",
        "\n",
        "#try modifying an element in the tuple\n",
        "print(\"\\nOriginal tuple:\", tuple)\n",
        "try:\n",
        "    tuple[0] = 100\n",
        "except TypeError as e:\n",
        "    print(f\"Error modifying tuple: {e}\")"
      ],
      "metadata": {
        "colab": {
          "base_uri": "https://localhost:8080/"
        },
        "id": "cybPGzpHdJPE",
        "outputId": "52281f09-bcda-4e01-f2c9-53bd444b27af"
      },
      "execution_count": null,
      "outputs": [
        {
          "output_type": "stream",
          "name": "stdout",
          "text": [
            "Original list: [1, 2, 3, 4, 5]\n",
            "Modified list: [1, 2, 3, 4, 10]\n",
            "\n",
            "Original tuple: (1, 2, 3, 4, 5)\n",
            "Error modifying tuple: 'tuple' object does not support item assignment\n"
          ]
        }
      ]
    },
    {
      "cell_type": "code",
      "source": [
        "#6. Write a function to demonstrate the behavior of mutable and immutable arguments.\n",
        "a=[1,2,3,4,5]\n",
        "type(a)\n",
        "print(a)\n",
        "a.append(4)\n",
        "print(a) so mutable can be change"
      ],
      "metadata": {
        "colab": {
          "base_uri": "https://localhost:8080/"
        },
        "id": "SexS1LWI5PEp",
        "outputId": "71d08f03-0757-4561-eded-f8040f5e8636"
      },
      "execution_count": 13,
      "outputs": [
        {
          "output_type": "stream",
          "name": "stdout",
          "text": [
            "[1, 2, 3, 4, 5]\n",
            "[1, 2, 3, 4, 5, 4]\n"
          ]
        }
      ]
    },
    {
      "cell_type": "code",
      "source": [
        "b=1\n",
        "type(b)\n",
        "print(b)"
      ],
      "metadata": {
        "colab": {
          "base_uri": "https://localhost:8080/"
        },
        "id": "831uHnVA5_ck",
        "outputId": "15eb57f8-a580-4edc-c294-74954438c9df"
      },
      "execution_count": 15,
      "outputs": [
        {
          "output_type": "stream",
          "name": "stdout",
          "text": [
            "1\n"
          ]
        }
      ]
    },
    {
      "cell_type": "code",
      "source": [
        "b.append(4)\n",
        "print(b) so immutable can't be change it will give error"
      ],
      "metadata": {
        "colab": {
          "base_uri": "https://localhost:8080/",
          "height": 158
        },
        "id": "rTxi6-sh8krK",
        "outputId": "fd993930-7909-4c34-eb77-ccc3f46775fa"
      },
      "execution_count": 16,
      "outputs": [
        {
          "output_type": "error",
          "ename": "AttributeError",
          "evalue": "'int' object has no attribute 'append'",
          "traceback": [
            "\u001b[0;31m---------------------------------------------------------------------------\u001b[0m",
            "\u001b[0;31mAttributeError\u001b[0m                            Traceback (most recent call last)",
            "\u001b[0;32m/tmp/ipython-input-16-3084338826.py\u001b[0m in \u001b[0;36m<cell line: 0>\u001b[0;34m()\u001b[0m\n\u001b[0;32m----> 1\u001b[0;31m \u001b[0mb\u001b[0m\u001b[0;34m.\u001b[0m\u001b[0mappend\u001b[0m\u001b[0;34m(\u001b[0m\u001b[0;36m4\u001b[0m\u001b[0;34m)\u001b[0m\u001b[0;34m\u001b[0m\u001b[0;34m\u001b[0m\u001b[0m\n\u001b[0m\u001b[1;32m      2\u001b[0m \u001b[0mprint\u001b[0m\u001b[0;34m(\u001b[0m\u001b[0mb\u001b[0m\u001b[0;34m)\u001b[0m\u001b[0;34m\u001b[0m\u001b[0;34m\u001b[0m\u001b[0m\n",
            "\u001b[0;31mAttributeError\u001b[0m: 'int' object has no attribute 'append'"
          ]
        }
      ]
    },
    {
      "cell_type": "code",
      "source": [
        "#7.Write a program that performs basic arithmetic operations on two user-input numbers.\n",
        "num1 = float(input(\"Enter the first number: \"))\n",
        "num2 = float(input(\"Enter the second number: \"))\n",
        "print(\"Addition:\", num1 + num2)\n",
        "print(\"Subtraction:\", num1 - num2)\n",
        "print(\"Multiplication:\", num1 * num2)\n",
        "print(\"Division:\", num1 / num2)"
      ],
      "metadata": {
        "id": "UHtWHHj5jgcE",
        "colab": {
          "base_uri": "https://localhost:8080/"
        },
        "outputId": "af0c5506-a0e3-4944-ccec-45d1602d6ebb"
      },
      "execution_count": 18,
      "outputs": [
        {
          "output_type": "stream",
          "name": "stdout",
          "text": [
            "Enter the first number: 5\n",
            "Enter the second number: 5\n",
            "Addition: 10.0\n",
            "Subtraction: 0.0\n",
            "Multiplication: 25.0\n",
            "Division: 1.0\n"
          ]
        }
      ]
    },
    {
      "cell_type": "code",
      "source": [
        "#8.Write a program to demonstrate the use of logical operators.\n",
        "a=int(input(\"enter a number\"))\n",
        "b=int(input(\"enter a number\"))\n",
        "#using 'and' operator\n",
        "print(f\"both a>0 and b>0:{a>0 and b>0}\")\n",
        "#using 'or' operator"
      ],
      "metadata": {
        "id": "70ZkkWljjeg5",
        "colab": {
          "base_uri": "https://localhost:8080/"
        },
        "outputId": "10e5e211-8316-46ad-b745-056a6df2af0f"
      },
      "execution_count": 37,
      "outputs": [
        {
          "output_type": "stream",
          "name": "stdout",
          "text": [
            "enter a number5\n",
            "enter a number6\n",
            "both a>0 and b>0:True\n"
          ]
        }
      ]
    },
    {
      "cell_type": "code",
      "source": [
        "#9.Write a Python program to convert user input from string to integer, float, and boolean types."
      ],
      "metadata": {
        "id": "lhKmMJxXDP88"
      },
      "execution_count": 75,
      "outputs": []
    },
    {
      "cell_type": "code",
      "source": [
        "m=3.5\n",
        "type(m)"
      ],
      "metadata": {
        "colab": {
          "base_uri": "https://localhost:8080/"
        },
        "id": "BmQxfHLDNaES",
        "outputId": "10b5d4a4-7723-4dd1-ed75-a6d7a93a1e4e"
      },
      "execution_count": 63,
      "outputs": [
        {
          "output_type": "execute_result",
          "data": {
            "text/plain": [
              "float"
            ]
          },
          "metadata": {},
          "execution_count": 63
        }
      ]
    },
    {
      "cell_type": "code",
      "source": [
        "#float to bool\n",
        "bool(m)"
      ],
      "metadata": {
        "colab": {
          "base_uri": "https://localhost:8080/"
        },
        "id": "J18TQ6dBNnNd",
        "outputId": "572bea9e-ced9-4040-85c4-200d787360a6"
      },
      "execution_count": 72,
      "outputs": [
        {
          "output_type": "execute_result",
          "data": {
            "text/plain": [
              "True"
            ]
          },
          "metadata": {},
          "execution_count": 72
        }
      ]
    },
    {
      "cell_type": "code",
      "source": [
        "#10. Write code to demonstrate type casting with list elements."
      ],
      "metadata": {
        "id": "x7BFN-IOPXdb"
      },
      "execution_count": null,
      "outputs": []
    },
    {
      "cell_type": "code",
      "source": [
        "#10. Write code to demonstrate type casting with list elements.\n",
        "my_list = ['1', '2', '3', '4'] # Example list of strings\n",
        "print(\"Original list:\", my_list)\n",
        "\n",
        "# Convert each element to an integer\n",
        "int_list = [int(item) for item in my_list]\n",
        "print(\"List after converting to integers:\", int_list)\n",
        "\n",
        "# Example of converting integers back to strings\n",
        "str_list = [str(item) for item in int_list]\n",
        "print(\"List after converting back to strings:\", str_list)"
      ],
      "metadata": {
        "colab": {
          "base_uri": "https://localhost:8080/"
        },
        "id": "b1aSkCtfQ0tZ",
        "outputId": "28a2c8ea-e583-4c13-85b1-780138936931"
      },
      "execution_count": 77,
      "outputs": [
        {
          "output_type": "stream",
          "name": "stdout",
          "text": [
            "Original list: ['1', '2', '3', '4']\n",
            "List after converting to integers: [1, 2, 3, 4]\n",
            "List after converting back to strings: ['1', '2', '3', '4']\n"
          ]
        }
      ]
    },
    {
      "cell_type": "code",
      "source": [
        "#11.Write a program that checks if a number is positive, negative, or zero.\n"
      ],
      "metadata": {
        "id": "szzG2vkGRV6_"
      },
      "execution_count": null,
      "outputs": []
    },
    {
      "cell_type": "code",
      "source": [
        "num = float(input(\"enter a num:\"))\n",
        "if num > 0:\n",
        "  print(\"positive\")\n",
        "elif num < 0:\n",
        "  print(\"negative\")\n",
        "else:\n",
        "  print(\"zero\")"
      ],
      "metadata": {
        "colab": {
          "base_uri": "https://localhost:8080/"
        },
        "id": "1dQgVuEURdVE",
        "outputId": "62a4c4ce-a24f-4de3-8c6b-9a11cdfdedc2"
      },
      "execution_count": 85,
      "outputs": [
        {
          "output_type": "stream",
          "name": "stdout",
          "text": [
            "enter a num:4\n",
            "positive\n"
          ]
        }
      ]
    },
    {
      "cell_type": "code",
      "source": [
        "#12.Write a for loop to print numbers from 1 to 10.\n",
        "for i in range(1, 11):\n",
        "  print(i)"
      ],
      "metadata": {
        "colab": {
          "base_uri": "https://localhost:8080/"
        },
        "id": "syeLzTbrTJU2",
        "outputId": "ab4c7ec1-bb62-4563-9a65-aec679e92aa3"
      },
      "execution_count": 91,
      "outputs": [
        {
          "output_type": "stream",
          "name": "stdout",
          "text": [
            "1\n",
            "2\n",
            "3\n",
            "4\n",
            "5\n",
            "6\n",
            "7\n",
            "8\n",
            "9\n",
            "10\n"
          ]
        }
      ]
    },
    {
      "cell_type": "code",
      "source": [
        "#13.Write a Python program to find the sum of all even numbers between 1 and 50.\n",
        "total = 0\n",
        "for num in range(1, 51):\n",
        "  if num % 2 == 0:\n",
        "    total += num\n",
        "print(total)"
      ],
      "metadata": {
        "colab": {
          "base_uri": "https://localhost:8080/"
        },
        "id": "u7eIUzg_UHFY",
        "outputId": "ac8d4b9c-09fa-45d6-80b8-651f63180f78"
      },
      "execution_count": 94,
      "outputs": [
        {
          "output_type": "stream",
          "name": "stdout",
          "text": [
            "650\n"
          ]
        }
      ]
    },
    {
      "cell_type": "code",
      "source": [
        "#14. Write a program to reverse a string using a while loop.\n",
        "\n",
        "# Input string\n",
        "original_string = input(\"Enter a string: \")\n",
        "\n",
        "# Initialize variables\n",
        "reversed_string = \"\"\n",
        "index = len(original_string) - 1\n",
        "\n",
        "# Use while loop to reverse the string\n",
        "while index >= 0:\n",
        "    reversed_string += original_string[index]\n",
        "    index -= 1\n",
        "\n",
        "# Print the reversed string\n",
        "print(\"Reversed string:\", reversed_string)\n"
      ],
      "metadata": {
        "colab": {
          "base_uri": "https://localhost:8080/"
        },
        "id": "3WMaAqEmXCi-",
        "outputId": "4a85139a-c2be-4ec3-b596-d69a79ab1293"
      },
      "execution_count": 95,
      "outputs": [
        {
          "output_type": "stream",
          "name": "stdout",
          "text": [
            "Enter a string: 5\n",
            "Reversed string: 5\n"
          ]
        }
      ]
    },
    {
      "cell_type": "code",
      "source": [
        "#15. Write a Python program to calculate the factorial of a number provided by the user using a while loop.\n",
        "\n",
        "# Input: Read number from user\n",
        "num = int(input(\"Enter a non-negative integer: \"))\n",
        "\n",
        "# Check for negative input\n",
        "if num < 0:\n",
        "    print(\"Factorial is not defined for negative numbers.\")\n",
        "else:\n",
        "    result = 1\n",
        "    i = 1\n",
        "\n",
        "    # Loop to calculate factorial\n",
        "    while i <= num:\n",
        "        result *= i\n",
        "        i += 1\n",
        "\n",
        "    # Output the result\n",
        "    print(f\"Factorial of {num} is {result}\")"
      ],
      "metadata": {
        "colab": {
          "base_uri": "https://localhost:8080/"
        },
        "id": "PeNw9hCgX4iK",
        "outputId": "68fefbdb-f2f9-4633-d82d-f994d99a4b3e"
      },
      "execution_count": 97,
      "outputs": [
        {
          "output_type": "stream",
          "name": "stdout",
          "text": [
            "Enter a non-negative integer: 5\n",
            "Factorial of 5 is 120\n"
          ]
        }
      ]
    }
  ]
}